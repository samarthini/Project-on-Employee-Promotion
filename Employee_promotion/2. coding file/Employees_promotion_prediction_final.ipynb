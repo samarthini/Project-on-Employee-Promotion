{
 "cells": [
  {
   "cell_type": "code",
   "execution_count": 2,
   "id": "61f8305f",
   "metadata": {},
   "outputs": [],
   "source": [
    "# Importing necessary libraries\n",
    "import pandas as pd\n",
    "import numpy as np\n",
    "import matplotlib.pyplot as plt\n",
    "%matplotlib inline\n",
    "import seaborn as sns\n",
    "import warnings\n",
    "warnings.filterwarnings('ignore')"
   ]
  },
  {
   "cell_type": "code",
   "execution_count": 3,
   "id": "10c0bf5b",
   "metadata": {},
   "outputs": [
    {
     "data": {
      "text/html": [
       "<div>\n",
       "<style scoped>\n",
       "    .dataframe tbody tr th:only-of-type {\n",
       "        vertical-align: middle;\n",
       "    }\n",
       "\n",
       "    .dataframe tbody tr th {\n",
       "        vertical-align: top;\n",
       "    }\n",
       "\n",
       "    .dataframe thead th {\n",
       "        text-align: right;\n",
       "    }\n",
       "</style>\n",
       "<table border=\"1\" class=\"dataframe\">\n",
       "  <thead>\n",
       "    <tr style=\"text-align: right;\">\n",
       "      <th></th>\n",
       "      <th>employee_id</th>\n",
       "      <th>department</th>\n",
       "      <th>region</th>\n",
       "      <th>education</th>\n",
       "      <th>gender</th>\n",
       "      <th>recruitment_channel</th>\n",
       "      <th>no_of_trainings</th>\n",
       "      <th>age</th>\n",
       "      <th>previous_year_rating</th>\n",
       "      <th>length_of_service</th>\n",
       "      <th>awards_won</th>\n",
       "      <th>avg_training_score</th>\n",
       "      <th>is_promoted</th>\n",
       "    </tr>\n",
       "  </thead>\n",
       "  <tbody>\n",
       "    <tr>\n",
       "      <th>0</th>\n",
       "      <td>65438</td>\n",
       "      <td>Sales &amp; Marketing</td>\n",
       "      <td>region_7</td>\n",
       "      <td>Master's &amp; above</td>\n",
       "      <td>f</td>\n",
       "      <td>sourcing</td>\n",
       "      <td>1</td>\n",
       "      <td>35</td>\n",
       "      <td>5.0</td>\n",
       "      <td>8</td>\n",
       "      <td>0</td>\n",
       "      <td>49.0</td>\n",
       "      <td>0</td>\n",
       "    </tr>\n",
       "    <tr>\n",
       "      <th>1</th>\n",
       "      <td>65141</td>\n",
       "      <td>Operations</td>\n",
       "      <td>region_22</td>\n",
       "      <td>Bachelor's</td>\n",
       "      <td>m</td>\n",
       "      <td>other</td>\n",
       "      <td>1</td>\n",
       "      <td>30</td>\n",
       "      <td>5.0</td>\n",
       "      <td>4</td>\n",
       "      <td>0</td>\n",
       "      <td>60.0</td>\n",
       "      <td>0</td>\n",
       "    </tr>\n",
       "    <tr>\n",
       "      <th>2</th>\n",
       "      <td>7513</td>\n",
       "      <td>Sales &amp; Marketing</td>\n",
       "      <td>region_19</td>\n",
       "      <td>Bachelor's</td>\n",
       "      <td>m</td>\n",
       "      <td>sourcing</td>\n",
       "      <td>1</td>\n",
       "      <td>34</td>\n",
       "      <td>3.0</td>\n",
       "      <td>7</td>\n",
       "      <td>0</td>\n",
       "      <td>50.0</td>\n",
       "      <td>0</td>\n",
       "    </tr>\n",
       "    <tr>\n",
       "      <th>3</th>\n",
       "      <td>2542</td>\n",
       "      <td>Sales &amp; Marketing</td>\n",
       "      <td>region_23</td>\n",
       "      <td>Bachelor's</td>\n",
       "      <td>m</td>\n",
       "      <td>other</td>\n",
       "      <td>2</td>\n",
       "      <td>39</td>\n",
       "      <td>1.0</td>\n",
       "      <td>10</td>\n",
       "      <td>0</td>\n",
       "      <td>50.0</td>\n",
       "      <td>0</td>\n",
       "    </tr>\n",
       "    <tr>\n",
       "      <th>4</th>\n",
       "      <td>48945</td>\n",
       "      <td>Technology</td>\n",
       "      <td>region_26</td>\n",
       "      <td>Bachelor's</td>\n",
       "      <td>m</td>\n",
       "      <td>other</td>\n",
       "      <td>1</td>\n",
       "      <td>45</td>\n",
       "      <td>3.0</td>\n",
       "      <td>2</td>\n",
       "      <td>0</td>\n",
       "      <td>73.0</td>\n",
       "      <td>0</td>\n",
       "    </tr>\n",
       "  </tbody>\n",
       "</table>\n",
       "</div>"
      ],
      "text/plain": [
       "   employee_id         department     region         education gender  \\\n",
       "0        65438  Sales & Marketing   region_7  Master's & above      f   \n",
       "1        65141         Operations  region_22        Bachelor's      m   \n",
       "2         7513  Sales & Marketing  region_19        Bachelor's      m   \n",
       "3         2542  Sales & Marketing  region_23        Bachelor's      m   \n",
       "4        48945         Technology  region_26        Bachelor's      m   \n",
       "\n",
       "  recruitment_channel  no_of_trainings  age  previous_year_rating  \\\n",
       "0            sourcing                1   35                   5.0   \n",
       "1               other                1   30                   5.0   \n",
       "2            sourcing                1   34                   3.0   \n",
       "3               other                2   39                   1.0   \n",
       "4               other                1   45                   3.0   \n",
       "\n",
       "   length_of_service  awards_won  avg_training_score  is_promoted  \n",
       "0                  8           0                49.0            0  \n",
       "1                  4           0                60.0            0  \n",
       "2                  7           0                50.0            0  \n",
       "3                 10           0                50.0            0  \n",
       "4                  2           0                73.0            0  "
      ]
     },
     "execution_count": 3,
     "metadata": {},
     "output_type": "execute_result"
    }
   ],
   "source": [
    "# Load the data into a dataframe\n",
    "data=pd.read_csv(\"C:\\\\Users\\\\DELL\\\\DATA SCIENCE\\\\DS Projects\\\\P151_Classification Model\\\\Raw Data\\\\employee_promotion.csv\")\n",
    "data.head()"
   ]
  },
  {
   "cell_type": "code",
   "execution_count": 3,
   "id": "fcbe3214",
   "metadata": {},
   "outputs": [
    {
     "data": {
      "text/html": [
       "<div>\n",
       "<style scoped>\n",
       "    .dataframe tbody tr th:only-of-type {\n",
       "        vertical-align: middle;\n",
       "    }\n",
       "\n",
       "    .dataframe tbody tr th {\n",
       "        vertical-align: top;\n",
       "    }\n",
       "\n",
       "    .dataframe thead th {\n",
       "        text-align: right;\n",
       "    }\n",
       "</style>\n",
       "<table border=\"1\" class=\"dataframe\">\n",
       "  <thead>\n",
       "    <tr style=\"text-align: right;\">\n",
       "      <th></th>\n",
       "      <th>no_of_trainings</th>\n",
       "      <th>age</th>\n",
       "      <th>previous_year_rating</th>\n",
       "      <th>length_of_service</th>\n",
       "      <th>awards_won</th>\n",
       "      <th>avg_training_score</th>\n",
       "      <th>is_promoted</th>\n",
       "    </tr>\n",
       "  </thead>\n",
       "  <tbody>\n",
       "    <tr>\n",
       "      <th>0</th>\n",
       "      <td>1</td>\n",
       "      <td>35</td>\n",
       "      <td>5.0</td>\n",
       "      <td>8</td>\n",
       "      <td>0</td>\n",
       "      <td>49.0</td>\n",
       "      <td>0</td>\n",
       "    </tr>\n",
       "    <tr>\n",
       "      <th>1</th>\n",
       "      <td>1</td>\n",
       "      <td>30</td>\n",
       "      <td>5.0</td>\n",
       "      <td>4</td>\n",
       "      <td>0</td>\n",
       "      <td>60.0</td>\n",
       "      <td>0</td>\n",
       "    </tr>\n",
       "    <tr>\n",
       "      <th>2</th>\n",
       "      <td>1</td>\n",
       "      <td>34</td>\n",
       "      <td>3.0</td>\n",
       "      <td>7</td>\n",
       "      <td>0</td>\n",
       "      <td>50.0</td>\n",
       "      <td>0</td>\n",
       "    </tr>\n",
       "    <tr>\n",
       "      <th>3</th>\n",
       "      <td>2</td>\n",
       "      <td>39</td>\n",
       "      <td>1.0</td>\n",
       "      <td>10</td>\n",
       "      <td>0</td>\n",
       "      <td>50.0</td>\n",
       "      <td>0</td>\n",
       "    </tr>\n",
       "    <tr>\n",
       "      <th>4</th>\n",
       "      <td>1</td>\n",
       "      <td>45</td>\n",
       "      <td>3.0</td>\n",
       "      <td>2</td>\n",
       "      <td>0</td>\n",
       "      <td>73.0</td>\n",
       "      <td>0</td>\n",
       "    </tr>\n",
       "  </tbody>\n",
       "</table>\n",
       "</div>"
      ],
      "text/plain": [
       "   no_of_trainings  age  previous_year_rating  length_of_service  awards_won  \\\n",
       "0                1   35                   5.0                  8           0   \n",
       "1                1   30                   5.0                  4           0   \n",
       "2                1   34                   3.0                  7           0   \n",
       "3                2   39                   1.0                 10           0   \n",
       "4                1   45                   3.0                  2           0   \n",
       "\n",
       "   avg_training_score  is_promoted  \n",
       "0                49.0            0  \n",
       "1                60.0            0  \n",
       "2                50.0            0  \n",
       "3                50.0            0  \n",
       "4                73.0            0  "
      ]
     },
     "execution_count": 3,
     "metadata": {},
     "output_type": "execute_result"
    }
   ],
   "source": [
    "data = data.iloc[:,6:]\n",
    "data.head()"
   ]
  },
  {
   "cell_type": "code",
   "execution_count": 4,
   "id": "0646d5cf",
   "metadata": {},
   "outputs": [],
   "source": [
    "data.drop('age',axis=1,inplace=True)"
   ]
  },
  {
   "cell_type": "code",
   "execution_count": 5,
   "id": "d6f89131",
   "metadata": {},
   "outputs": [
    {
     "data": {
      "text/html": [
       "<div>\n",
       "<style scoped>\n",
       "    .dataframe tbody tr th:only-of-type {\n",
       "        vertical-align: middle;\n",
       "    }\n",
       "\n",
       "    .dataframe tbody tr th {\n",
       "        vertical-align: top;\n",
       "    }\n",
       "\n",
       "    .dataframe thead th {\n",
       "        text-align: right;\n",
       "    }\n",
       "</style>\n",
       "<table border=\"1\" class=\"dataframe\">\n",
       "  <thead>\n",
       "    <tr style=\"text-align: right;\">\n",
       "      <th></th>\n",
       "      <th>no_of_trainings</th>\n",
       "      <th>previous_year_rating</th>\n",
       "      <th>length_of_service</th>\n",
       "      <th>awards_won</th>\n",
       "      <th>avg_training_score</th>\n",
       "      <th>is_promoted</th>\n",
       "    </tr>\n",
       "  </thead>\n",
       "  <tbody>\n",
       "    <tr>\n",
       "      <th>0</th>\n",
       "      <td>1</td>\n",
       "      <td>5.0</td>\n",
       "      <td>8</td>\n",
       "      <td>0</td>\n",
       "      <td>49.0</td>\n",
       "      <td>0</td>\n",
       "    </tr>\n",
       "    <tr>\n",
       "      <th>1</th>\n",
       "      <td>1</td>\n",
       "      <td>5.0</td>\n",
       "      <td>4</td>\n",
       "      <td>0</td>\n",
       "      <td>60.0</td>\n",
       "      <td>0</td>\n",
       "    </tr>\n",
       "    <tr>\n",
       "      <th>2</th>\n",
       "      <td>1</td>\n",
       "      <td>3.0</td>\n",
       "      <td>7</td>\n",
       "      <td>0</td>\n",
       "      <td>50.0</td>\n",
       "      <td>0</td>\n",
       "    </tr>\n",
       "    <tr>\n",
       "      <th>3</th>\n",
       "      <td>2</td>\n",
       "      <td>1.0</td>\n",
       "      <td>10</td>\n",
       "      <td>0</td>\n",
       "      <td>50.0</td>\n",
       "      <td>0</td>\n",
       "    </tr>\n",
       "    <tr>\n",
       "      <th>4</th>\n",
       "      <td>1</td>\n",
       "      <td>3.0</td>\n",
       "      <td>2</td>\n",
       "      <td>0</td>\n",
       "      <td>73.0</td>\n",
       "      <td>0</td>\n",
       "    </tr>\n",
       "  </tbody>\n",
       "</table>\n",
       "</div>"
      ],
      "text/plain": [
       "   no_of_trainings  previous_year_rating  length_of_service  awards_won  \\\n",
       "0                1                   5.0                  8           0   \n",
       "1                1                   5.0                  4           0   \n",
       "2                1                   3.0                  7           0   \n",
       "3                2                   1.0                 10           0   \n",
       "4                1                   3.0                  2           0   \n",
       "\n",
       "   avg_training_score  is_promoted  \n",
       "0                49.0            0  \n",
       "1                60.0            0  \n",
       "2                50.0            0  \n",
       "3                50.0            0  \n",
       "4                73.0            0  "
      ]
     },
     "execution_count": 5,
     "metadata": {},
     "output_type": "execute_result"
    }
   ],
   "source": [
    "data.head()"
   ]
  },
  {
   "cell_type": "code",
   "execution_count": 6,
   "id": "2b0de69c",
   "metadata": {},
   "outputs": [
    {
     "data": {
      "text/plain": [
       "Index(['no_of_trainings', 'previous_year_rating', 'length_of_service',\n",
       "       'awards_won', 'avg_training_score', 'is_promoted'],\n",
       "      dtype='object')"
      ]
     },
     "execution_count": 6,
     "metadata": {},
     "output_type": "execute_result"
    }
   ],
   "source": [
    "# To check column names\n",
    "data.columns"
   ]
  },
  {
   "cell_type": "code",
   "execution_count": 7,
   "id": "b3c6f6ae",
   "metadata": {},
   "outputs": [
    {
     "data": {
      "text/plain": [
       "(54808, 6)"
      ]
     },
     "execution_count": 7,
     "metadata": {},
     "output_type": "execute_result"
    }
   ],
   "source": [
    "# Checking for no. of rows and columns\n",
    "data.shape"
   ]
  },
  {
   "cell_type": "code",
   "execution_count": 8,
   "id": "dc33339f",
   "metadata": {},
   "outputs": [
    {
     "name": "stdout",
     "output_type": "stream",
     "text": [
      "<class 'pandas.core.frame.DataFrame'>\n",
      "RangeIndex: 54808 entries, 0 to 54807\n",
      "Data columns (total 6 columns):\n",
      " #   Column                Non-Null Count  Dtype  \n",
      "---  ------                --------------  -----  \n",
      " 0   no_of_trainings       54808 non-null  int64  \n",
      " 1   previous_year_rating  50684 non-null  float64\n",
      " 2   length_of_service     54808 non-null  int64  \n",
      " 3   awards_won            54808 non-null  int64  \n",
      " 4   avg_training_score    52248 non-null  float64\n",
      " 5   is_promoted           54808 non-null  int64  \n",
      "dtypes: float64(2), int64(4)\n",
      "memory usage: 2.5 MB\n"
     ]
    }
   ],
   "source": [
    "data.info()"
   ]
  },
  {
   "cell_type": "code",
   "execution_count": 9,
   "id": "71d4ba1f",
   "metadata": {},
   "outputs": [
    {
     "data": {
      "text/html": [
       "<div>\n",
       "<style scoped>\n",
       "    .dataframe tbody tr th:only-of-type {\n",
       "        vertical-align: middle;\n",
       "    }\n",
       "\n",
       "    .dataframe tbody tr th {\n",
       "        vertical-align: top;\n",
       "    }\n",
       "\n",
       "    .dataframe thead th {\n",
       "        text-align: right;\n",
       "    }\n",
       "</style>\n",
       "<table border=\"1\" class=\"dataframe\">\n",
       "  <thead>\n",
       "    <tr style=\"text-align: right;\">\n",
       "      <th></th>\n",
       "      <th>no_of_trainings</th>\n",
       "      <th>previous_year_rating</th>\n",
       "      <th>length_of_service</th>\n",
       "      <th>awards_won</th>\n",
       "      <th>avg_training_score</th>\n",
       "      <th>is_promoted</th>\n",
       "    </tr>\n",
       "  </thead>\n",
       "  <tbody>\n",
       "    <tr>\n",
       "      <th>count</th>\n",
       "      <td>54808.000000</td>\n",
       "      <td>50684.000000</td>\n",
       "      <td>54808.000000</td>\n",
       "      <td>54808.000000</td>\n",
       "      <td>52248.000000</td>\n",
       "      <td>54808.000000</td>\n",
       "    </tr>\n",
       "    <tr>\n",
       "      <th>mean</th>\n",
       "      <td>1.253011</td>\n",
       "      <td>3.329256</td>\n",
       "      <td>5.865512</td>\n",
       "      <td>0.023172</td>\n",
       "      <td>63.712238</td>\n",
       "      <td>0.085170</td>\n",
       "    </tr>\n",
       "    <tr>\n",
       "      <th>std</th>\n",
       "      <td>0.609264</td>\n",
       "      <td>1.259993</td>\n",
       "      <td>4.265094</td>\n",
       "      <td>0.150450</td>\n",
       "      <td>13.521910</td>\n",
       "      <td>0.279137</td>\n",
       "    </tr>\n",
       "    <tr>\n",
       "      <th>min</th>\n",
       "      <td>1.000000</td>\n",
       "      <td>1.000000</td>\n",
       "      <td>1.000000</td>\n",
       "      <td>0.000000</td>\n",
       "      <td>39.000000</td>\n",
       "      <td>0.000000</td>\n",
       "    </tr>\n",
       "    <tr>\n",
       "      <th>25%</th>\n",
       "      <td>1.000000</td>\n",
       "      <td>3.000000</td>\n",
       "      <td>3.000000</td>\n",
       "      <td>0.000000</td>\n",
       "      <td>51.000000</td>\n",
       "      <td>0.000000</td>\n",
       "    </tr>\n",
       "    <tr>\n",
       "      <th>50%</th>\n",
       "      <td>1.000000</td>\n",
       "      <td>3.000000</td>\n",
       "      <td>5.000000</td>\n",
       "      <td>0.000000</td>\n",
       "      <td>60.000000</td>\n",
       "      <td>0.000000</td>\n",
       "    </tr>\n",
       "    <tr>\n",
       "      <th>75%</th>\n",
       "      <td>1.000000</td>\n",
       "      <td>4.000000</td>\n",
       "      <td>7.000000</td>\n",
       "      <td>0.000000</td>\n",
       "      <td>77.000000</td>\n",
       "      <td>0.000000</td>\n",
       "    </tr>\n",
       "    <tr>\n",
       "      <th>max</th>\n",
       "      <td>10.000000</td>\n",
       "      <td>5.000000</td>\n",
       "      <td>37.000000</td>\n",
       "      <td>1.000000</td>\n",
       "      <td>99.000000</td>\n",
       "      <td>1.000000</td>\n",
       "    </tr>\n",
       "  </tbody>\n",
       "</table>\n",
       "</div>"
      ],
      "text/plain": [
       "       no_of_trainings  previous_year_rating  length_of_service    awards_won  \\\n",
       "count     54808.000000          50684.000000       54808.000000  54808.000000   \n",
       "mean          1.253011              3.329256           5.865512      0.023172   \n",
       "std           0.609264              1.259993           4.265094      0.150450   \n",
       "min           1.000000              1.000000           1.000000      0.000000   \n",
       "25%           1.000000              3.000000           3.000000      0.000000   \n",
       "50%           1.000000              3.000000           5.000000      0.000000   \n",
       "75%           1.000000              4.000000           7.000000      0.000000   \n",
       "max          10.000000              5.000000          37.000000      1.000000   \n",
       "\n",
       "       avg_training_score   is_promoted  \n",
       "count        52248.000000  54808.000000  \n",
       "mean            63.712238      0.085170  \n",
       "std             13.521910      0.279137  \n",
       "min             39.000000      0.000000  \n",
       "25%             51.000000      0.000000  \n",
       "50%             60.000000      0.000000  \n",
       "75%             77.000000      0.000000  \n",
       "max             99.000000      1.000000  "
      ]
     },
     "execution_count": 9,
     "metadata": {},
     "output_type": "execute_result"
    }
   ],
   "source": [
    "# Summary statistics\n",
    "data.describe()"
   ]
  },
  {
   "cell_type": "code",
   "execution_count": 10,
   "id": "0de29711",
   "metadata": {},
   "outputs": [
    {
     "data": {
      "text/plain": [
       "no_of_trainings           int64\n",
       "previous_year_rating    float64\n",
       "length_of_service         int64\n",
       "awards_won                int64\n",
       "avg_training_score      float64\n",
       "is_promoted               int64\n",
       "dtype: object"
      ]
     },
     "execution_count": 10,
     "metadata": {},
     "output_type": "execute_result"
    }
   ],
   "source": [
    "# Checking for datatypes\n",
    "data.dtypes"
   ]
  },
  {
   "cell_type": "markdown",
   "id": "0b08e137",
   "metadata": {},
   "source": [
    "### missing value treatment"
   ]
  },
  {
   "cell_type": "code",
   "execution_count": 11,
   "id": "a96c1198",
   "metadata": {},
   "outputs": [
    {
     "data": {
      "text/plain": [
       "no_of_trainings            0\n",
       "previous_year_rating    4124\n",
       "length_of_service          0\n",
       "awards_won                 0\n",
       "avg_training_score      2560\n",
       "is_promoted                0\n",
       "dtype: int64"
      ]
     },
     "execution_count": 11,
     "metadata": {},
     "output_type": "execute_result"
    }
   ],
   "source": [
    "# Checking for missing values\n",
    "data.isnull().sum()"
   ]
  },
  {
   "cell_type": "code",
   "execution_count": 12,
   "id": "f56c4520",
   "metadata": {},
   "outputs": [
    {
     "data": {
      "text/plain": [
       "Index(['no_of_trainings', 'previous_year_rating', 'length_of_service',\n",
       "       'awards_won', 'avg_training_score', 'is_promoted'],\n",
       "      dtype='object')"
      ]
     },
     "execution_count": 12,
     "metadata": {},
     "output_type": "execute_result"
    }
   ],
   "source": [
    "cols=data.columns\n",
    "cols"
   ]
  },
  {
   "cell_type": "code",
   "execution_count": 13,
   "id": "5cb5f6a7",
   "metadata": {},
   "outputs": [
    {
     "data": {
      "text/plain": [
       "<AxesSubplot:>"
      ]
     },
     "execution_count": 13,
     "metadata": {},
     "output_type": "execute_result"
    },
    {
     "data": {
      "image/png": "[encoded data removed]",
      "text/plain": [
       "<Figure size 432x288 with 2 Axes>"
      ]
     },
     "metadata": {
      "needs_background": "light"
     },
     "output_type": "display_data"
    }
   ],
   "source": [
    "colours=['#000099','#ffff00']\n",
    "sns.heatmap(data[cols].isnull(),\n",
    "           cmap=sns.color_palette(colours))"
   ]
  },
  {
   "cell_type": "code",
   "execution_count": 14,
   "id": "cf0d395b",
   "metadata": {},
   "outputs": [
    {
     "name": "stdout",
     "output_type": "stream",
     "text": [
      "The % of data missing values in previous_year_rating is 7.524448985549554\n",
      "The % of data missing values in avg_training_score is 4.670850970661218\n"
     ]
    }
   ],
   "source": [
    "print('The % of data missing values in previous_year_rating is',(4124/54808)*100)\n",
    "print('The % of data missing values in avg_training_score is',(2560/54808)*100)"
   ]
  },
  {
   "cell_type": "code",
   "execution_count": 15,
   "id": "fa2bd1fb",
   "metadata": {},
   "outputs": [
    {
     "data": {
      "text/plain": [
       "-0.3106378431385327"
      ]
     },
     "execution_count": 15,
     "metadata": {},
     "output_type": "execute_result"
    }
   ],
   "source": [
    "data['previous_year_rating'].skew()"
   ]
  },
  {
   "cell_type": "code",
   "execution_count": 16,
   "id": "1b6d62a9",
   "metadata": {},
   "outputs": [
    {
     "data": {
      "text/plain": [
       "3.0"
      ]
     },
     "execution_count": 16,
     "metadata": {},
     "output_type": "execute_result"
    }
   ],
   "source": [
    "data_median = data['previous_year_rating'].median()\n",
    "data_median"
   ]
  },
  {
   "cell_type": "code",
   "execution_count": 17,
   "id": "dcac1d62",
   "metadata": {},
   "outputs": [
    {
     "data": {
      "text/plain": [
       "0"
      ]
     },
     "execution_count": 17,
     "metadata": {},
     "output_type": "execute_result"
    }
   ],
   "source": [
    "data['previous_year_rating'] = data['previous_year_rating'].fillna(data_median)\n",
    "data['previous_year_rating'].isnull().sum()"
   ]
  },
  {
   "cell_type": "code",
   "execution_count": 18,
   "id": "8a395847",
   "metadata": {},
   "outputs": [
    {
     "data": {
      "text/plain": [
       "0.4191534330632933"
      ]
     },
     "execution_count": 18,
     "metadata": {},
     "output_type": "execute_result"
    }
   ],
   "source": [
    "data['avg_training_score'].skew()"
   ]
  },
  {
   "cell_type": "code",
   "execution_count": 19,
   "id": "ed3354ed",
   "metadata": {},
   "outputs": [
    {
     "data": {
      "text/plain": [
       "63.71223778900628"
      ]
     },
     "execution_count": 19,
     "metadata": {},
     "output_type": "execute_result"
    }
   ],
   "source": [
    "data_mean = data['avg_training_score'].mean()\n",
    "data_mean"
   ]
  },
  {
   "cell_type": "code",
   "execution_count": 20,
   "id": "e76dd481",
   "metadata": {},
   "outputs": [
    {
     "data": {
      "text/plain": [
       "0"
      ]
     },
     "execution_count": 20,
     "metadata": {},
     "output_type": "execute_result"
    }
   ],
   "source": [
    "data['avg_training_score'] = data['avg_training_score'].fillna(data_mean)\n",
    "data['avg_training_score'].isnull().sum()"
   ]
  },
  {
   "cell_type": "code",
   "execution_count": 21,
   "id": "270a46f4",
   "metadata": {},
   "outputs": [
    {
     "data": {
      "text/plain": [
       "no_of_trainings         0\n",
       "previous_year_rating    0\n",
       "length_of_service       0\n",
       "awards_won              0\n",
       "avg_training_score      0\n",
       "is_promoted             0\n",
       "dtype: int64"
      ]
     },
     "execution_count": 21,
     "metadata": {},
     "output_type": "execute_result"
    }
   ],
   "source": [
    "data.isnull().sum()"
   ]
  },
  {
   "cell_type": "markdown",
   "id": "250f3488",
   "metadata": {},
   "source": [
    "### Duplicates"
   ]
  },
  {
   "cell_type": "code",
   "execution_count": 22,
   "id": "1467aa33",
   "metadata": {},
   "outputs": [
    {
     "data": {
      "text/plain": [
       "0        False\n",
       "1        False\n",
       "2        False\n",
       "3        False\n",
       "4        False\n",
       "         ...  \n",
       "54803     True\n",
       "54804     True\n",
       "54805     True\n",
       "54806     True\n",
       "54807     True\n",
       "Length: 54808, dtype: bool"
      ]
     },
     "execution_count": 22,
     "metadata": {},
     "output_type": "execute_result"
    }
   ],
   "source": [
    "data.duplicated()"
   ]
  },
  {
   "cell_type": "code",
   "execution_count": 23,
   "id": "dce67a68",
   "metadata": {},
   "outputs": [
    {
     "data": {
      "text/html": [
       "<div>\n",
       "<style scoped>\n",
       "    .dataframe tbody tr th:only-of-type {\n",
       "        vertical-align: middle;\n",
       "    }\n",
       "\n",
       "    .dataframe tbody tr th {\n",
       "        vertical-align: top;\n",
       "    }\n",
       "\n",
       "    .dataframe thead th {\n",
       "        text-align: right;\n",
       "    }\n",
       "</style>\n",
       "<table border=\"1\" class=\"dataframe\">\n",
       "  <thead>\n",
       "    <tr style=\"text-align: right;\">\n",
       "      <th></th>\n",
       "      <th>no_of_trainings</th>\n",
       "      <th>previous_year_rating</th>\n",
       "      <th>length_of_service</th>\n",
       "      <th>awards_won</th>\n",
       "      <th>avg_training_score</th>\n",
       "      <th>is_promoted</th>\n",
       "    </tr>\n",
       "  </thead>\n",
       "  <tbody>\n",
       "    <tr>\n",
       "      <th>96</th>\n",
       "      <td>1</td>\n",
       "      <td>3.0</td>\n",
       "      <td>1</td>\n",
       "      <td>0</td>\n",
       "      <td>77.000000</td>\n",
       "      <td>0</td>\n",
       "    </tr>\n",
       "    <tr>\n",
       "      <th>107</th>\n",
       "      <td>1</td>\n",
       "      <td>3.0</td>\n",
       "      <td>2</td>\n",
       "      <td>0</td>\n",
       "      <td>73.000000</td>\n",
       "      <td>0</td>\n",
       "    </tr>\n",
       "    <tr>\n",
       "      <th>114</th>\n",
       "      <td>1</td>\n",
       "      <td>5.0</td>\n",
       "      <td>5</td>\n",
       "      <td>0</td>\n",
       "      <td>49.000000</td>\n",
       "      <td>0</td>\n",
       "    </tr>\n",
       "    <tr>\n",
       "      <th>141</th>\n",
       "      <td>1</td>\n",
       "      <td>3.0</td>\n",
       "      <td>1</td>\n",
       "      <td>0</td>\n",
       "      <td>56.000000</td>\n",
       "      <td>0</td>\n",
       "    </tr>\n",
       "    <tr>\n",
       "      <th>160</th>\n",
       "      <td>1</td>\n",
       "      <td>3.0</td>\n",
       "      <td>1</td>\n",
       "      <td>0</td>\n",
       "      <td>50.000000</td>\n",
       "      <td>0</td>\n",
       "    </tr>\n",
       "    <tr>\n",
       "      <th>...</th>\n",
       "      <td>...</td>\n",
       "      <td>...</td>\n",
       "      <td>...</td>\n",
       "      <td>...</td>\n",
       "      <td>...</td>\n",
       "      <td>...</td>\n",
       "    </tr>\n",
       "    <tr>\n",
       "      <th>54803</th>\n",
       "      <td>1</td>\n",
       "      <td>3.0</td>\n",
       "      <td>17</td>\n",
       "      <td>0</td>\n",
       "      <td>78.000000</td>\n",
       "      <td>0</td>\n",
       "    </tr>\n",
       "    <tr>\n",
       "      <th>54804</th>\n",
       "      <td>1</td>\n",
       "      <td>2.0</td>\n",
       "      <td>6</td>\n",
       "      <td>0</td>\n",
       "      <td>56.000000</td>\n",
       "      <td>0</td>\n",
       "    </tr>\n",
       "    <tr>\n",
       "      <th>54805</th>\n",
       "      <td>1</td>\n",
       "      <td>5.0</td>\n",
       "      <td>3</td>\n",
       "      <td>0</td>\n",
       "      <td>79.000000</td>\n",
       "      <td>0</td>\n",
       "    </tr>\n",
       "    <tr>\n",
       "      <th>54806</th>\n",
       "      <td>1</td>\n",
       "      <td>1.0</td>\n",
       "      <td>2</td>\n",
       "      <td>0</td>\n",
       "      <td>63.712238</td>\n",
       "      <td>0</td>\n",
       "    </tr>\n",
       "    <tr>\n",
       "      <th>54807</th>\n",
       "      <td>1</td>\n",
       "      <td>1.0</td>\n",
       "      <td>5</td>\n",
       "      <td>0</td>\n",
       "      <td>49.000000</td>\n",
       "      <td>0</td>\n",
       "    </tr>\n",
       "  </tbody>\n",
       "</table>\n",
       "<p>43816 rows × 6 columns</p>\n",
       "</div>"
      ],
      "text/plain": [
       "       no_of_trainings  previous_year_rating  length_of_service  awards_won  \\\n",
       "96                   1                   3.0                  1           0   \n",
       "107                  1                   3.0                  2           0   \n",
       "114                  1                   5.0                  5           0   \n",
       "141                  1                   3.0                  1           0   \n",
       "160                  1                   3.0                  1           0   \n",
       "...                ...                   ...                ...         ...   \n",
       "54803                1                   3.0                 17           0   \n",
       "54804                1                   2.0                  6           0   \n",
       "54805                1                   5.0                  3           0   \n",
       "54806                1                   1.0                  2           0   \n",
       "54807                1                   1.0                  5           0   \n",
       "\n",
       "       avg_training_score  is_promoted  \n",
       "96              77.000000            0  \n",
       "107             73.000000            0  \n",
       "114             49.000000            0  \n",
       "141             56.000000            0  \n",
       "160             50.000000            0  \n",
       "...                   ...          ...  \n",
       "54803           78.000000            0  \n",
       "54804           56.000000            0  \n",
       "54805           79.000000            0  \n",
       "54806           63.712238            0  \n",
       "54807           49.000000            0  \n",
       "\n",
       "[43816 rows x 6 columns]"
      ]
     },
     "execution_count": 23,
     "metadata": {},
     "output_type": "execute_result"
    }
   ],
   "source": [
    "data[data.duplicated()]"
   ]
  },
  {
   "cell_type": "code",
   "execution_count": 22,
   "id": "506a9bf5",
   "metadata": {},
   "outputs": [],
   "source": [
    "data = data.drop_duplicates()"
   ]
  },
  {
   "cell_type": "code",
   "execution_count": 24,
   "id": "ba943093",
   "metadata": {},
   "outputs": [
    {
     "data": {
      "text/html": [
       "<div>\n",
       "<style scoped>\n",
       "    .dataframe tbody tr th:only-of-type {\n",
       "        vertical-align: middle;\n",
       "    }\n",
       "\n",
       "    .dataframe tbody tr th {\n",
       "        vertical-align: top;\n",
       "    }\n",
       "\n",
       "    .dataframe thead th {\n",
       "        text-align: right;\n",
       "    }\n",
       "</style>\n",
       "<table border=\"1\" class=\"dataframe\">\n",
       "  <thead>\n",
       "    <tr style=\"text-align: right;\">\n",
       "      <th></th>\n",
       "      <th>no_of_trainings</th>\n",
       "      <th>previous_year_rating</th>\n",
       "      <th>length_of_service</th>\n",
       "      <th>awards_won</th>\n",
       "      <th>avg_training_score</th>\n",
       "      <th>is_promoted</th>\n",
       "    </tr>\n",
       "  </thead>\n",
       "  <tbody>\n",
       "    <tr>\n",
       "      <th>96</th>\n",
       "      <td>1</td>\n",
       "      <td>3.0</td>\n",
       "      <td>1</td>\n",
       "      <td>0</td>\n",
       "      <td>77.000000</td>\n",
       "      <td>0</td>\n",
       "    </tr>\n",
       "    <tr>\n",
       "      <th>107</th>\n",
       "      <td>1</td>\n",
       "      <td>3.0</td>\n",
       "      <td>2</td>\n",
       "      <td>0</td>\n",
       "      <td>73.000000</td>\n",
       "      <td>0</td>\n",
       "    </tr>\n",
       "    <tr>\n",
       "      <th>114</th>\n",
       "      <td>1</td>\n",
       "      <td>5.0</td>\n",
       "      <td>5</td>\n",
       "      <td>0</td>\n",
       "      <td>49.000000</td>\n",
       "      <td>0</td>\n",
       "    </tr>\n",
       "    <tr>\n",
       "      <th>141</th>\n",
       "      <td>1</td>\n",
       "      <td>3.0</td>\n",
       "      <td>1</td>\n",
       "      <td>0</td>\n",
       "      <td>56.000000</td>\n",
       "      <td>0</td>\n",
       "    </tr>\n",
       "    <tr>\n",
       "      <th>160</th>\n",
       "      <td>1</td>\n",
       "      <td>3.0</td>\n",
       "      <td>1</td>\n",
       "      <td>0</td>\n",
       "      <td>50.000000</td>\n",
       "      <td>0</td>\n",
       "    </tr>\n",
       "    <tr>\n",
       "      <th>...</th>\n",
       "      <td>...</td>\n",
       "      <td>...</td>\n",
       "      <td>...</td>\n",
       "      <td>...</td>\n",
       "      <td>...</td>\n",
       "      <td>...</td>\n",
       "    </tr>\n",
       "    <tr>\n",
       "      <th>54803</th>\n",
       "      <td>1</td>\n",
       "      <td>3.0</td>\n",
       "      <td>17</td>\n",
       "      <td>0</td>\n",
       "      <td>78.000000</td>\n",
       "      <td>0</td>\n",
       "    </tr>\n",
       "    <tr>\n",
       "      <th>54804</th>\n",
       "      <td>1</td>\n",
       "      <td>2.0</td>\n",
       "      <td>6</td>\n",
       "      <td>0</td>\n",
       "      <td>56.000000</td>\n",
       "      <td>0</td>\n",
       "    </tr>\n",
       "    <tr>\n",
       "      <th>54805</th>\n",
       "      <td>1</td>\n",
       "      <td>5.0</td>\n",
       "      <td>3</td>\n",
       "      <td>0</td>\n",
       "      <td>79.000000</td>\n",
       "      <td>0</td>\n",
       "    </tr>\n",
       "    <tr>\n",
       "      <th>54806</th>\n",
       "      <td>1</td>\n",
       "      <td>1.0</td>\n",
       "      <td>2</td>\n",
       "      <td>0</td>\n",
       "      <td>63.712238</td>\n",
       "      <td>0</td>\n",
       "    </tr>\n",
       "    <tr>\n",
       "      <th>54807</th>\n",
       "      <td>1</td>\n",
       "      <td>1.0</td>\n",
       "      <td>5</td>\n",
       "      <td>0</td>\n",
       "      <td>49.000000</td>\n",
       "      <td>0</td>\n",
       "    </tr>\n",
       "  </tbody>\n",
       "</table>\n",
       "<p>43816 rows × 6 columns</p>\n",
       "</div>"
      ],
      "text/plain": [
       "       no_of_trainings  previous_year_rating  length_of_service  awards_won  \\\n",
       "96                   1                   3.0                  1           0   \n",
       "107                  1                   3.0                  2           0   \n",
       "114                  1                   5.0                  5           0   \n",
       "141                  1                   3.0                  1           0   \n",
       "160                  1                   3.0                  1           0   \n",
       "...                ...                   ...                ...         ...   \n",
       "54803                1                   3.0                 17           0   \n",
       "54804                1                   2.0                  6           0   \n",
       "54805                1                   5.0                  3           0   \n",
       "54806                1                   1.0                  2           0   \n",
       "54807                1                   1.0                  5           0   \n",
       "\n",
       "       avg_training_score  is_promoted  \n",
       "96              77.000000            0  \n",
       "107             73.000000            0  \n",
       "114             49.000000            0  \n",
       "141             56.000000            0  \n",
       "160             50.000000            0  \n",
       "...                   ...          ...  \n",
       "54803           78.000000            0  \n",
       "54804           56.000000            0  \n",
       "54805           79.000000            0  \n",
       "54806           63.712238            0  \n",
       "54807           49.000000            0  \n",
       "\n",
       "[43816 rows x 6 columns]"
      ]
     },
     "execution_count": 24,
     "metadata": {},
     "output_type": "execute_result"
    }
   ],
   "source": [
    "data[data.duplicated()]"
   ]
  },
  {
   "cell_type": "markdown",
   "id": "5682329d",
   "metadata": {},
   "source": [
    "## Visualization"
   ]
  },
  {
   "cell_type": "markdown",
   "id": "96e4a23e",
   "metadata": {},
   "source": [
    "### Univariate Analysis"
   ]
  },
  {
   "cell_type": "markdown",
   "id": "de0e52f7",
   "metadata": {},
   "source": [
    "### Numerical feature distribution"
   ]
  },
  {
   "cell_type": "code",
   "execution_count": 25,
   "id": "7a2e8f3d",
   "metadata": {},
   "outputs": [
    {
     "data": {
      "text/plain": [
       "<AxesSubplot:>"
      ]
     },
     "execution_count": 25,
     "metadata": {},
     "output_type": "execute_result"
    },
    {
     "data": {
      "image/png": "[encoded data removed]",
      "text/plain": [
       "<Figure size 432x288 with 1 Axes>"
      ]
     },
     "metadata": {
      "needs_background": "light"
     },
     "output_type": "display_data"
    }
   ],
   "source": [
    "data['no_of_trainings'].hist()"
   ]
  },
  {
   "cell_type": "code",
   "execution_count": 27,
   "id": "94ec196a",
   "metadata": {},
   "outputs": [
    {
     "data": {
      "text/plain": [
       "<AxesSubplot:>"
      ]
     },
     "execution_count": 27,
     "metadata": {},
     "output_type": "execute_result"
    },
    {
     "data": {
      "image/png": "[encoded data removed]",
      "text/plain": [
       "<Figure size 432x288 with 1 Axes>"
      ]
     },
     "metadata": {
      "needs_background": "light"
     },
     "output_type": "display_data"
    }
   ],
   "source": [
    "data['previous_year_rating'].hist()"
   ]
  },
  {
   "cell_type": "code",
   "execution_count": 28,
   "id": "ad7db1e0",
   "metadata": {},
   "outputs": [
    {
     "data": {
      "text/plain": [
       "<AxesSubplot:>"
      ]
     },
     "execution_count": 28,
     "metadata": {},
     "output_type": "execute_result"
    },
    {
     "data": {
      "image/png": "[encoded data removed]",
      "text/plain": [
       "<Figure size 432x288 with 1 Axes>"
      ]
     },
     "metadata": {
      "needs_background": "light"
     },
     "output_type": "display_data"
    }
   ],
   "source": [
    "data['length_of_service'].hist()"
   ]
  },
  {
   "cell_type": "code",
   "execution_count": 29,
   "id": "465abbea",
   "metadata": {},
   "outputs": [
    {
     "data": {
      "text/plain": [
       "<AxesSubplot:>"
      ]
     },
     "execution_count": 29,
     "metadata": {},
     "output_type": "execute_result"
    },
    {
     "data": {
      "image/png": "[encoded data removed]",
      "text/plain": [
       "<Figure size 432x288 with 1 Axes>"
      ]
     },
     "metadata": {
      "needs_background": "light"
     },
     "output_type": "display_data"
    }
   ],
   "source": [
    "data['awards_won'].hist()"
   ]
  },
  {
   "cell_type": "code",
   "execution_count": 30,
   "id": "d9f89603",
   "metadata": {},
   "outputs": [
    {
     "data": {
      "text/plain": [
       "<AxesSubplot:>"
      ]
     },
     "execution_count": 30,
     "metadata": {},
     "output_type": "execute_result"
    },
    {
     "data": {
      "image/png": "[encoded data removed]",
      "text/plain": [
       "<Figure size 432x288 with 1 Axes>"
      ]
     },
     "metadata": {
      "needs_background": "light"
     },
     "output_type": "display_data"
    }
   ],
   "source": [
    "data['avg_training_score'].hist()"
   ]
  },
  {
   "cell_type": "markdown",
   "id": "9acbf7db",
   "metadata": {},
   "source": [
    "### Countplot for is_promoted"
   ]
  },
  {
   "cell_type": "code",
   "execution_count": 31,
   "id": "03255e2d",
   "metadata": {},
   "outputs": [
    {
     "name": "stdout",
     "output_type": "stream",
     "text": [
      "0    50140\n",
      "1     4668\n",
      "Name: is_promoted, dtype: int64\n"
     ]
    },
    {
     "data": {
      "text/plain": [
       "<AxesSubplot:xlabel='is_promoted', ylabel='count'>"
      ]
     },
     "execution_count": 31,
     "metadata": {},
     "output_type": "execute_result"
    },
    {
     "data": {
      "image/png": "[encoded data removed]",
      "text/plain": [
       "<Figure size 432x288 with 1 Axes>"
      ]
     },
     "metadata": {
      "needs_background": "light"
     },
     "output_type": "display_data"
    }
   ],
   "source": [
    "print(data['is_promoted'].value_counts())\n",
    "sns.countplot(x=data['is_promoted'])"
   ]
  },
  {
   "cell_type": "code",
   "execution_count": 32,
   "id": "dd147cff",
   "metadata": {},
   "outputs": [],
   "source": [
    "# scatter plot"
   ]
  },
  {
   "cell_type": "code",
   "execution_count": 33,
   "id": "8be7c903",
   "metadata": {},
   "outputs": [
    {
     "data": {
      "text/plain": [
       "<seaborn.axisgrid.PairGrid at 0x20796224310>"
      ]
     },
     "execution_count": 33,
     "metadata": {},
     "output_type": "execute_result"
    },
    {
     "data": {
      "image/png": "[encoded data removed]",
      "text/plain": [
       "<Figure size 1080x1080 with 42 Axes>"
      ]
     },
     "metadata": {
      "needs_background": "light"
     },
     "output_type": "display_data"
    }
   ],
   "source": [
    "sns.pairplot(data)"
   ]
  },
  {
   "cell_type": "code",
   "execution_count": 34,
   "id": "bb0ac897",
   "metadata": {},
   "outputs": [
    {
     "data": {
      "text/html": [
       "<div>\n",
       "<style scoped>\n",
       "    .dataframe tbody tr th:only-of-type {\n",
       "        vertical-align: middle;\n",
       "    }\n",
       "\n",
       "    .dataframe tbody tr th {\n",
       "        vertical-align: top;\n",
       "    }\n",
       "\n",
       "    .dataframe thead th {\n",
       "        text-align: right;\n",
       "    }\n",
       "</style>\n",
       "<table border=\"1\" class=\"dataframe\">\n",
       "  <thead>\n",
       "    <tr style=\"text-align: right;\">\n",
       "      <th></th>\n",
       "      <th>no_of_trainings</th>\n",
       "      <th>previous_year_rating</th>\n",
       "      <th>length_of_service</th>\n",
       "      <th>awards_won</th>\n",
       "      <th>avg_training_score</th>\n",
       "      <th>is_promoted</th>\n",
       "    </tr>\n",
       "  </thead>\n",
       "  <tbody>\n",
       "    <tr>\n",
       "      <th>no_of_trainings</th>\n",
       "      <td>1.000000</td>\n",
       "      <td>-0.061564</td>\n",
       "      <td>-0.057275</td>\n",
       "      <td>-0.007628</td>\n",
       "      <td>0.043549</td>\n",
       "      <td>-0.024896</td>\n",
       "    </tr>\n",
       "    <tr>\n",
       "      <th>previous_year_rating</th>\n",
       "      <td>-0.061564</td>\n",
       "      <td>1.000000</td>\n",
       "      <td>0.023504</td>\n",
       "      <td>0.026587</td>\n",
       "      <td>0.070540</td>\n",
       "      <td>0.153230</td>\n",
       "    </tr>\n",
       "    <tr>\n",
       "      <th>length_of_service</th>\n",
       "      <td>-0.057275</td>\n",
       "      <td>0.023504</td>\n",
       "      <td>1.000000</td>\n",
       "      <td>-0.039927</td>\n",
       "      <td>-0.038430</td>\n",
       "      <td>-0.010670</td>\n",
       "    </tr>\n",
       "    <tr>\n",
       "      <th>awards_won</th>\n",
       "      <td>-0.007628</td>\n",
       "      <td>0.026587</td>\n",
       "      <td>-0.039927</td>\n",
       "      <td>1.000000</td>\n",
       "      <td>0.072689</td>\n",
       "      <td>0.195871</td>\n",
       "    </tr>\n",
       "    <tr>\n",
       "      <th>avg_training_score</th>\n",
       "      <td>0.043549</td>\n",
       "      <td>0.070540</td>\n",
       "      <td>-0.038430</td>\n",
       "      <td>0.072689</td>\n",
       "      <td>1.000000</td>\n",
       "      <td>0.180779</td>\n",
       "    </tr>\n",
       "    <tr>\n",
       "      <th>is_promoted</th>\n",
       "      <td>-0.024896</td>\n",
       "      <td>0.153230</td>\n",
       "      <td>-0.010670</td>\n",
       "      <td>0.195871</td>\n",
       "      <td>0.180779</td>\n",
       "      <td>1.000000</td>\n",
       "    </tr>\n",
       "  </tbody>\n",
       "</table>\n",
       "</div>"
      ],
      "text/plain": [
       "                      no_of_trainings  previous_year_rating  \\\n",
       "no_of_trainings              1.000000             -0.061564   \n",
       "previous_year_rating        -0.061564              1.000000   \n",
       "length_of_service           -0.057275              0.023504   \n",
       "awards_won                  -0.007628              0.026587   \n",
       "avg_training_score           0.043549              0.070540   \n",
       "is_promoted                 -0.024896              0.153230   \n",
       "\n",
       "                      length_of_service  awards_won  avg_training_score  \\\n",
       "no_of_trainings               -0.057275   -0.007628            0.043549   \n",
       "previous_year_rating           0.023504    0.026587            0.070540   \n",
       "length_of_service              1.000000   -0.039927           -0.038430   \n",
       "awards_won                    -0.039927    1.000000            0.072689   \n",
       "avg_training_score            -0.038430    0.072689            1.000000   \n",
       "is_promoted                   -0.010670    0.195871            0.180779   \n",
       "\n",
       "                      is_promoted  \n",
       "no_of_trainings         -0.024896  \n",
       "previous_year_rating     0.153230  \n",
       "length_of_service       -0.010670  \n",
       "awards_won               0.195871  \n",
       "avg_training_score       0.180779  \n",
       "is_promoted              1.000000  "
      ]
     },
     "execution_count": 34,
     "metadata": {},
     "output_type": "execute_result"
    }
   ],
   "source": [
    "data.corr()"
   ]
  },
  {
   "cell_type": "code",
   "execution_count": 35,
   "id": "5b60da03",
   "metadata": {},
   "outputs": [
    {
     "data": {
      "image/png": "[encoded data removed]",
      "text/plain": [
       "<Figure size 720x504 with 2 Axes>"
      ]
     },
     "metadata": {
      "needs_background": "light"
     },
     "output_type": "display_data"
    }
   ],
   "source": [
    "plt.figure(figsize=(10,7))\n",
    "sns.heatmap(data.corr(),annot=True)\n",
    "plt.show()"
   ]
  },
  {
   "cell_type": "markdown",
   "id": "c53db189",
   "metadata": {},
   "source": [
    "## Dividing data in X and Y"
   ]
  },
  {
   "cell_type": "code",
   "execution_count": 36,
   "id": "11cf3320",
   "metadata": {},
   "outputs": [
    {
     "data": {
      "text/plain": [
       "((54808, 5), (54808,))"
      ]
     },
     "execution_count": 36,
     "metadata": {},
     "output_type": "execute_result"
    }
   ],
   "source": [
    "# Splitting the independent and dependent variables\n",
    "X = data.drop(columns=\"is_promoted\",axis=1)\n",
    "Y = data.is_promoted\n",
    "X.shape,Y.shape"
   ]
  },
  {
   "cell_type": "markdown",
   "id": "16529705",
   "metadata": {},
   "source": [
    "## Feature Scaling"
   ]
  },
  {
   "cell_type": "code",
   "execution_count": 37,
   "id": "d8f896a4",
   "metadata": {},
   "outputs": [],
   "source": [
    "from sklearn.preprocessing import StandardScaler"
   ]
  },
  {
   "cell_type": "code",
   "execution_count": 38,
   "id": "3a41c1a7",
   "metadata": {},
   "outputs": [
    {
     "name": "stdout",
     "output_type": "stream",
     "text": [
      "[[-4.15276153e-01  1.39576589e+00  5.00459556e-01 -1.54017755e-01\n",
      "  -1.11437663e+00]\n",
      " [-4.15276153e-01  1.39576589e+00 -4.37394645e-01 -1.54017755e-01\n",
      "  -2.81182991e-01]\n",
      " [-4.15276153e-01 -2.50651485e-01  2.65996006e-01 -1.54017755e-01\n",
      "  -1.03863175e+00]\n",
      " ...\n",
      " [-4.15276153e-01  1.39576589e+00 -6.71858195e-01 -1.54017755e-01\n",
      "   1.15796965e+00]\n",
      " [-4.15276153e-01 -1.89706886e+00 -9.06321745e-01 -1.54017755e-01\n",
      "   5.38199714e-16]\n",
      " [-4.15276153e-01 -1.89706886e+00 -2.02931094e-01 -1.54017755e-01\n",
      "  -1.11437663e+00]]\n"
     ]
    }
   ],
   "source": [
    "# standardization \n",
    "std_scaler = StandardScaler()\n",
    "X_scaler = std_scaler.fit_transform(X) \n",
    "print(X_scaler)"
   ]
  },
  {
   "cell_type": "code",
   "execution_count": 39,
   "id": "c233cf18",
   "metadata": {},
   "outputs": [],
   "source": [
    "#Spliting the variable into train and test\n",
    "from sklearn.model_selection import train_test_split\n",
    "X_train, X_test, y_train, y_test = train_test_split(X_scaler,Y, test_size=0.20, random_state=40)\n"
   ]
  },
  {
   "cell_type": "markdown",
   "id": "c9bd95e9",
   "metadata": {},
   "source": [
    "## MODEL BUILDING"
   ]
  },
  {
   "cell_type": "markdown",
   "id": "de7cacd5",
   "metadata": {},
   "source": [
    "## 1. RANDOM FOREST CLASSIFIER"
   ]
  },
  {
   "cell_type": "code",
   "execution_count": 40,
   "id": "d500a98a",
   "metadata": {},
   "outputs": [
    {
     "data": {
      "text/plain": [
       "RandomForestClassifier(n_jobs=2, random_state=40)"
      ]
     },
     "execution_count": 40,
     "metadata": {},
     "output_type": "execute_result"
    }
   ],
   "source": [
    "from sklearn.ensemble import RandomForestClassifier\n",
    "rfc_model = RandomForestClassifier(n_jobs=2, random_state=40)\n",
    "rfc_model.fit(X_train,y_train)"
   ]
  },
  {
   "cell_type": "markdown",
   "id": "e74d4ebb",
   "metadata": {},
   "source": [
    "### Validation of model\n"
   ]
  },
  {
   "cell_type": "code",
   "execution_count": 41,
   "id": "31cd8cb5",
   "metadata": {},
   "outputs": [],
   "source": [
    "y_pred_rfc_train= rfc_model.predict(X_train)"
   ]
  },
  {
   "cell_type": "code",
   "execution_count": 42,
   "id": "8d387f1f",
   "metadata": {},
   "outputs": [],
   "source": [
    "from sklearn.metrics import accuracy_score\n",
    "from sklearn.metrics import confusion_matrix\n",
    "from sklearn.metrics import classification_report"
   ]
  },
  {
   "cell_type": "code",
   "execution_count": 43,
   "id": "872e782f",
   "metadata": {},
   "outputs": [
    {
     "name": "stdout",
     "output_type": "stream",
     "text": [
      "Accuracy of training model 0.9343611731970989\n",
      "==============================================================================\n",
      "Confusion Matrics [[39920   139]\n",
      " [ 2739  1048]]\n",
      "==============================================================================\n",
      "Classificaton Report                precision    recall  f1-score   support\n",
      "\n",
      "           0       0.94      1.00      0.97     40059\n",
      "           1       0.88      0.28      0.42      3787\n",
      "\n",
      "    accuracy                           0.93     43846\n",
      "   macro avg       0.91      0.64      0.69     43846\n",
      "weighted avg       0.93      0.93      0.92     43846\n",
      "\n"
     ]
    }
   ],
   "source": [
    "print(\"Accuracy of training model\",accuracy_score(y_train,y_pred_rfc_train))\n",
    "print(\"==============================================================================\")\n",
    "print(\"Confusion Matrics\",confusion_matrix(y_train,y_pred_rfc_train))\n",
    "print(\"==============================================================================\")\n",
    "print(\"Classificaton Report \",classification_report(y_train,y_pred_rfc_train))"
   ]
  },
  {
   "cell_type": "code",
   "execution_count": 44,
   "id": "779c2017",
   "metadata": {},
   "outputs": [],
   "source": [
    "y_pred_rfc_test= rfc_model.predict(X_test)"
   ]
  },
  {
   "cell_type": "code",
   "execution_count": 45,
   "id": "d9c9b699",
   "metadata": {},
   "outputs": [
    {
     "name": "stdout",
     "output_type": "stream",
     "text": [
      "Accuracy of testing model 0.9192665571975916\n",
      "==============================================================================\n",
      "Confusion Matrics [[9946  135]\n",
      " [ 750  131]]\n",
      "==============================================================================\n",
      "Classificaton Report               precision    recall  f1-score   support\n",
      "\n",
      "           0       0.93      0.99      0.96     10081\n",
      "           1       0.49      0.15      0.23       881\n",
      "\n",
      "    accuracy                           0.92     10962\n",
      "   macro avg       0.71      0.57      0.59     10962\n",
      "weighted avg       0.89      0.92      0.90     10962\n",
      "\n"
     ]
    }
   ],
   "source": [
    "print(\"Accuracy of testing model\",accuracy_score(y_test,y_pred_rfc_test))\n",
    "print(\"==============================================================================\")\n",
    "print(\"Confusion Matrics\",confusion_matrix(y_test,y_pred_rfc_test))\n",
    "print(\"==============================================================================\")\n",
    "print(\"Classificaton Report\",classification_report(y_test,y_pred_rfc_test))"
   ]
  },
  {
   "cell_type": "markdown",
   "id": "7ede2e30",
   "metadata": {},
   "source": [
    "## 2. LOGISTIC REGRESSION"
   ]
  },
  {
   "cell_type": "code",
   "execution_count": 46,
   "id": "bfb3a95b",
   "metadata": {},
   "outputs": [
    {
     "data": {
      "text/plain": [
       "LogisticRegression()"
      ]
     },
     "execution_count": 46,
     "metadata": {},
     "output_type": "execute_result"
    }
   ],
   "source": [
    "from sklearn.linear_model import LogisticRegression\n",
    "lr_model=LogisticRegression()\n",
    "lr_model.fit(X_train,y_train)"
   ]
  },
  {
   "cell_type": "markdown",
   "id": "544fd76f",
   "metadata": {},
   "source": [
    "### Validation of model"
   ]
  },
  {
   "cell_type": "code",
   "execution_count": 47,
   "id": "505e4767",
   "metadata": {},
   "outputs": [],
   "source": [
    "y_pred_lr_train=lr_model.predict(X_train)"
   ]
  },
  {
   "cell_type": "code",
   "execution_count": 48,
   "id": "875295e6",
   "metadata": {},
   "outputs": [
    {
     "name": "stdout",
     "output_type": "stream",
     "text": [
      "Accuracy of training model 0.9177119919719017\n",
      "==============================================================================\n",
      "Confusion Matrics [[39940   119]\n",
      " [ 3489   298]]\n",
      "==============================================================================\n",
      "Classificaton Report                precision    recall  f1-score   support\n",
      "\n",
      "           0       0.92      1.00      0.96     40059\n",
      "           1       0.71      0.08      0.14      3787\n",
      "\n",
      "    accuracy                           0.92     43846\n",
      "   macro avg       0.82      0.54      0.55     43846\n",
      "weighted avg       0.90      0.92      0.89     43846\n",
      "\n"
     ]
    }
   ],
   "source": [
    "print(\"Accuracy of training model\",accuracy_score(y_train,y_pred_lr_train))\n",
    "print(\"==============================================================================\")\n",
    "print(\"Confusion Matrics\",confusion_matrix(y_train,y_pred_lr_train))\n",
    "print(\"==============================================================================\")\n",
    "print(\"Classificaton Report \",classification_report(y_train,y_pred_lr_train))"
   ]
  },
  {
   "cell_type": "code",
   "execution_count": 49,
   "id": "7a72c091",
   "metadata": {},
   "outputs": [],
   "source": [
    "y_pred_lr_test= lr_model.predict(X_test)"
   ]
  },
  {
   "cell_type": "code",
   "execution_count": 50,
   "id": "1b1d1e2f",
   "metadata": {},
   "outputs": [
    {
     "name": "stdout",
     "output_type": "stream",
     "text": [
      "Accuracy of testing model 0.9226418536763364\n",
      "==============================================================================\n",
      "Confusion Matrics [[10049    32]\n",
      " [  816    65]]\n",
      "==============================================================================\n",
      "Classificaton Report               precision    recall  f1-score   support\n",
      "\n",
      "           0       0.92      1.00      0.96     10081\n",
      "           1       0.67      0.07      0.13       881\n",
      "\n",
      "    accuracy                           0.92     10962\n",
      "   macro avg       0.80      0.54      0.55     10962\n",
      "weighted avg       0.90      0.92      0.89     10962\n",
      "\n"
     ]
    }
   ],
   "source": [
    "print(\"Accuracy of testing model\",accuracy_score(y_test,y_pred_lr_test))\n",
    "print(\"==============================================================================\")\n",
    "print(\"Confusion Matrics\",confusion_matrix(y_test,y_pred_lr_test))\n",
    "print(\"==============================================================================\")\n",
    "print(\"Classificaton Report\",classification_report(y_test,y_pred_lr_test))"
   ]
  },
  {
   "cell_type": "markdown",
   "id": "699a380a",
   "metadata": {},
   "source": [
    "## 3. GAUSSIAN NAIVE BAYES CLASSIFIER"
   ]
  },
  {
   "cell_type": "code",
   "execution_count": 51,
   "id": "5739a437",
   "metadata": {},
   "outputs": [
    {
     "data": {
      "text/plain": [
       "GaussianNB()"
      ]
     },
     "execution_count": 51,
     "metadata": {},
     "output_type": "execute_result"
    }
   ],
   "source": [
    "# training the model on training set\n",
    "from sklearn.naive_bayes import GaussianNB\n",
    "gnb_model= GaussianNB()\n",
    "gnb_model.fit(X_train, y_train)"
   ]
  },
  {
   "cell_type": "markdown",
   "id": "8639f7cd",
   "metadata": {},
   "source": [
    "### Validation of model"
   ]
  },
  {
   "cell_type": "code",
   "execution_count": 52,
   "id": "d4343d83",
   "metadata": {},
   "outputs": [],
   "source": [
    "y_pred_gnb_train=gnb_model.predict(X_train)"
   ]
  },
  {
   "cell_type": "code",
   "execution_count": 53,
   "id": "d180deac",
   "metadata": {},
   "outputs": [
    {
     "name": "stdout",
     "output_type": "stream",
     "text": [
      "Accuracy of training model 0.9111891620672353\n",
      "==============================================================================\n",
      "Confusion Matrics [[39494   565]\n",
      " [ 3329   458]]\n",
      "==============================================================================\n",
      "Classificaton Report                precision    recall  f1-score   support\n",
      "\n",
      "           0       0.92      0.99      0.95     40059\n",
      "           1       0.45      0.12      0.19      3787\n",
      "\n",
      "    accuracy                           0.91     43846\n",
      "   macro avg       0.68      0.55      0.57     43846\n",
      "weighted avg       0.88      0.91      0.89     43846\n",
      "\n"
     ]
    }
   ],
   "source": [
    "print(\"Accuracy of training model\",accuracy_score(y_train,y_pred_gnb_train))\n",
    "print(\"==============================================================================\")\n",
    "print(\"Confusion Matrics\",confusion_matrix(y_train,y_pred_gnb_train))\n",
    "print(\"==============================================================================\")\n",
    "print(\"Classificaton Report \",classification_report(y_train,y_pred_gnb_train))"
   ]
  },
  {
   "cell_type": "code",
   "execution_count": 54,
   "id": "97768a5b",
   "metadata": {},
   "outputs": [],
   "source": [
    "y_pred_gnb_test = gnb_model.predict(X_test)"
   ]
  },
  {
   "cell_type": "code",
   "execution_count": 55,
   "id": "27328a32",
   "metadata": {},
   "outputs": [
    {
     "name": "stdout",
     "output_type": "stream",
     "text": [
      "Accuracy of testing model 0.9155263638022259\n",
      "==============================================================================\n",
      "Confusion Matrics [[9935  146]\n",
      " [ 780  101]]\n",
      "==============================================================================\n",
      "Classificaton Report               precision    recall  f1-score   support\n",
      "\n",
      "           0       0.93      0.99      0.96     10081\n",
      "           1       0.41      0.11      0.18       881\n",
      "\n",
      "    accuracy                           0.92     10962\n",
      "   macro avg       0.67      0.55      0.57     10962\n",
      "weighted avg       0.89      0.92      0.89     10962\n",
      "\n"
     ]
    }
   ],
   "source": [
    "print(\"Accuracy of testing model\",accuracy_score(y_test,y_pred_gnb_test))\n",
    "print(\"==============================================================================\")\n",
    "print(\"Confusion Matrics\",confusion_matrix(y_test,y_pred_gnb_test))\n",
    "print(\"==============================================================================\")\n",
    "print(\"Classificaton Report\",classification_report(y_test,y_pred_gnb_test))"
   ]
  },
  {
   "cell_type": "markdown",
   "id": "8095b597",
   "metadata": {},
   "source": [
    "## 4. SUPPORT VECTOR MACHINE"
   ]
  },
  {
   "cell_type": "code",
   "execution_count": 56,
   "id": "c32ae112",
   "metadata": {},
   "outputs": [
    {
     "data": {
      "text/plain": [
       "SVC(C=0.1, gamma=1, kernel='linear')"
      ]
     },
     "execution_count": 56,
     "metadata": {},
     "output_type": "execute_result"
    }
   ],
   "source": [
    "from sklearn.svm import SVC\n",
    "# Building a Support Vector Machine on train data\n",
    "svc_model = SVC(C= .1, kernel='linear', gamma= 1)\n",
    "svc_model.fit(X_train, y_train)"
   ]
  },
  {
   "cell_type": "markdown",
   "id": "3e24275b",
   "metadata": {},
   "source": [
    "### Validation of model"
   ]
  },
  {
   "cell_type": "code",
   "execution_count": 57,
   "id": "465dbbc0",
   "metadata": {},
   "outputs": [],
   "source": [
    "y_pred_svc_train=svc_model.predict(X_train)"
   ]
  },
  {
   "cell_type": "code",
   "execution_count": 58,
   "id": "0cd9150a",
   "metadata": {},
   "outputs": [
    {
     "name": "stdout",
     "output_type": "stream",
     "text": [
      "Accuracy of training model 0.913629521507093\n",
      "==============================================================================\n",
      "Confusion Matrics [[40059     0]\n",
      " [ 3787     0]]\n",
      "==============================================================================\n",
      "Classificaton Report                precision    recall  f1-score   support\n",
      "\n",
      "           0       0.91      1.00      0.95     40059\n",
      "           1       0.00      0.00      0.00      3787\n",
      "\n",
      "    accuracy                           0.91     43846\n",
      "   macro avg       0.46      0.50      0.48     43846\n",
      "weighted avg       0.83      0.91      0.87     43846\n",
      "\n"
     ]
    }
   ],
   "source": [
    "print(\"Accuracy of training model\",accuracy_score(y_train,y_pred_svc_train))\n",
    "print(\"==============================================================================\")\n",
    "print(\"Confusion Matrics\",confusion_matrix(y_train,y_pred_svc_train))\n",
    "print(\"==============================================================================\")\n",
    "print(\"Classificaton Report \",classification_report(y_train,y_pred_svc_train))"
   ]
  },
  {
   "cell_type": "code",
   "execution_count": 59,
   "id": "aaccc387",
   "metadata": {},
   "outputs": [],
   "source": [
    "y_pred_svc_test = svc_model.predict(X_test)"
   ]
  },
  {
   "cell_type": "code",
   "execution_count": 60,
   "id": "1c8c7439",
   "metadata": {},
   "outputs": [
    {
     "name": "stdout",
     "output_type": "stream",
     "text": [
      "Accuracy of testing model 0.9196314541142128\n",
      "==============================================================================\n",
      "Confusion Matrics [[10081     0]\n",
      " [  881     0]]\n",
      "==============================================================================\n",
      "Classificaton Report               precision    recall  f1-score   support\n",
      "\n",
      "           0       0.92      1.00      0.96     10081\n",
      "           1       0.00      0.00      0.00       881\n",
      "\n",
      "    accuracy                           0.92     10962\n",
      "   macro avg       0.46      0.50      0.48     10962\n",
      "weighted avg       0.85      0.92      0.88     10962\n",
      "\n"
     ]
    }
   ],
   "source": [
    "print(\"Accuracy of testing model\",accuracy_score(y_test,y_pred_svc_test))\n",
    "print(\"==============================================================================\")\n",
    "print(\"Confusion Matrics\",confusion_matrix(y_test,y_pred_svc_test))\n",
    "print(\"==============================================================================\")\n",
    "print(\"Classificaton Report\",classification_report(y_test,y_pred_svc_test))"
   ]
  },
  {
   "cell_type": "markdown",
   "id": "e4257475",
   "metadata": {},
   "source": [
    "## 5. XGBOOST CLASSIFIER"
   ]
  },
  {
   "cell_type": "code",
   "execution_count": 61,
   "id": "5c72ad56",
   "metadata": {},
   "outputs": [
    {
     "name": "stdout",
     "output_type": "stream",
     "text": [
      "Requirement already satisfied: xgboost in c:\\users\\dell\\anaconda3\\lib\\site-packages (1.6.2)\n",
      "Requirement already satisfied: numpy in c:\\users\\dell\\anaconda3\\lib\\site-packages (from xgboost) (1.21.5)\n",
      "Requirement already satisfied: scipy in c:\\users\\dell\\anaconda3\\lib\\site-packages (from xgboost) (1.7.3)\n"
     ]
    }
   ],
   "source": [
    "!pip install xgboost"
   ]
  },
  {
   "cell_type": "code",
   "execution_count": 62,
   "id": "118ecd9c",
   "metadata": {},
   "outputs": [
    {
     "data": {
      "text/plain": [
       "XGBClassifier(base_score=0.5, booster='gbtree', callbacks=None,\n",
       "              colsample_bylevel=1, colsample_bynode=1, colsample_bytree=1,\n",
       "              early_stopping_rounds=None, enable_categorical=False,\n",
       "              eval_metric=None, gamma=0, gpu_id=-1, grow_policy='depthwise',\n",
       "              importance_type=None, interaction_constraints='',\n",
       "              learning_rate=0.300000012, max_bin=256, max_cat_to_onehot=4,\n",
       "              max_delta_step=0, max_depth=6, max_leaves=0, min_child_weight=1,\n",
       "              missing=nan, monotone_constraints='()', n_estimators=100,\n",
       "              n_jobs=0, num_parallel_tree=1, predictor='auto', random_state=0,\n",
       "              reg_alpha=0, reg_lambda=1, ...)"
      ]
     },
     "execution_count": 62,
     "metadata": {},
     "output_type": "execute_result"
    }
   ],
   "source": [
    "from xgboost import XGBClassifier\n",
    "xgb_model = XGBClassifier()\n",
    "xgb_model.fit(X_train, y_train)"
   ]
  },
  {
   "cell_type": "markdown",
   "id": "bc370e2e",
   "metadata": {},
   "source": [
    "### Validation of model"
   ]
  },
  {
   "cell_type": "code",
   "execution_count": 63,
   "id": "03e2bb4e",
   "metadata": {},
   "outputs": [],
   "source": [
    "y_pred_xgb_train=xgb_model.predict(X_train)"
   ]
  },
  {
   "cell_type": "code",
   "execution_count": 64,
   "id": "afd85468",
   "metadata": {},
   "outputs": [
    {
     "name": "stdout",
     "output_type": "stream",
     "text": [
      "Accuracy of training model 0.9259225470966564\n",
      "==============================================================================\n",
      "Confusion Matrics [[39960    99]\n",
      " [ 3149   638]]\n",
      "==============================================================================\n",
      "Classificaton Report                precision    recall  f1-score   support\n",
      "\n",
      "           0       0.93      1.00      0.96     40059\n",
      "           1       0.87      0.17      0.28      3787\n",
      "\n",
      "    accuracy                           0.93     43846\n",
      "   macro avg       0.90      0.58      0.62     43846\n",
      "weighted avg       0.92      0.93      0.90     43846\n",
      "\n"
     ]
    }
   ],
   "source": [
    "print(\"Accuracy of training model\",accuracy_score(y_train,y_pred_xgb_train))\n",
    "print(\"==============================================================================\")\n",
    "print(\"Confusion Matrics\",confusion_matrix(y_train,y_pred_xgb_train))\n",
    "print(\"==============================================================================\")\n",
    "print(\"Classificaton Report \",classification_report(y_train,y_pred_xgb_train))"
   ]
  },
  {
   "cell_type": "code",
   "execution_count": 65,
   "id": "493dbe5b",
   "metadata": {},
   "outputs": [],
   "source": [
    "y_pred_xgb_test = xgb_model.predict(X_test)"
   ]
  },
  {
   "cell_type": "markdown",
   "id": "3e1ba241",
   "metadata": {},
   "source": [
    "## 6. DECISION TREE"
   ]
  },
  {
   "cell_type": "code",
   "execution_count": 66,
   "id": "b99144b3",
   "metadata": {},
   "outputs": [
    {
     "data": {
      "text/plain": [
       "DecisionTreeClassifier(criterion='entropy')"
      ]
     },
     "execution_count": 66,
     "metadata": {},
     "output_type": "execute_result"
    }
   ],
   "source": [
    "from sklearn.tree import DecisionTreeClassifier\n",
    "dtc_model=DecisionTreeClassifier(criterion = 'entropy')\n",
    "dtc_model.fit(X_train,y_train)"
   ]
  },
  {
   "cell_type": "markdown",
   "id": "a2c6747d",
   "metadata": {},
   "source": [
    "### Validation of model"
   ]
  },
  {
   "cell_type": "code",
   "execution_count": 67,
   "id": "20d1b897",
   "metadata": {},
   "outputs": [],
   "source": [
    "y_pred_dtc_train = dtc_model.predict(X_train)"
   ]
  },
  {
   "cell_type": "code",
   "execution_count": 68,
   "id": "dc8f3059",
   "metadata": {},
   "outputs": [
    {
     "name": "stdout",
     "output_type": "stream",
     "text": [
      "Accuracy of training model 0.9343611731970989\n",
      "==============================================================================\n",
      "Confusion Matrics [[40014    45]\n",
      " [ 2833   954]]\n",
      "==============================================================================\n",
      "Classificaton Report                precision    recall  f1-score   support\n",
      "\n",
      "           0       0.93      1.00      0.97     40059\n",
      "           1       0.95      0.25      0.40      3787\n",
      "\n",
      "    accuracy                           0.93     43846\n",
      "   macro avg       0.94      0.63      0.68     43846\n",
      "weighted avg       0.94      0.93      0.92     43846\n",
      "\n"
     ]
    }
   ],
   "source": [
    "print(\"Accuracy of training model\",accuracy_score(y_train,y_pred_dtc_train))\n",
    "print(\"==============================================================================\")\n",
    "print(\"Confusion Matrics\",confusion_matrix(y_train,y_pred_dtc_train))\n",
    "print(\"==============================================================================\")\n",
    "print(\"Classificaton Report \",classification_report(y_train,y_pred_dtc_train))"
   ]
  },
  {
   "cell_type": "code",
   "execution_count": 69,
   "id": "84077e00",
   "metadata": {},
   "outputs": [],
   "source": [
    "y_pred_dtc_test = dtc_model.predict(X_test)"
   ]
  },
  {
   "cell_type": "code",
   "execution_count": 70,
   "id": "77504c0d",
   "metadata": {},
   "outputs": [
    {
     "name": "stdout",
     "output_type": "stream",
     "text": [
      "Accuracy of training model 0.9343611731970989\n",
      "==============================================================================\n",
      "Confusion Matrics [[40014    45]\n",
      " [ 2833   954]]\n",
      "==============================================================================\n",
      "Classificaton Report                precision    recall  f1-score   support\n",
      "\n",
      "           0       0.93      1.00      0.97     40059\n",
      "           1       0.95      0.25      0.40      3787\n",
      "\n",
      "    accuracy                           0.93     43846\n",
      "   macro avg       0.94      0.63      0.68     43846\n",
      "weighted avg       0.94      0.93      0.92     43846\n",
      "\n"
     ]
    }
   ],
   "source": [
    "print(\"Accuracy of training model\",accuracy_score(y_train,y_pred_dtc_train))\n",
    "print(\"==============================================================================\")\n",
    "print(\"Confusion Matrics\",confusion_matrix(y_train,y_pred_dtc_train))\n",
    "print(\"==============================================================================\")\n",
    "print(\"Classificaton Report \",classification_report(y_train,y_pred_dtc_train))"
   ]
  },
  {
   "cell_type": "code",
   "execution_count": 71,
   "id": "9a9866f6",
   "metadata": {},
   "outputs": [],
   "source": [
    "y_pred_knn_test = dtc_model.predict(X_test)"
   ]
  },
  {
   "cell_type": "code",
   "execution_count": 72,
   "id": "0c60b320",
   "metadata": {},
   "outputs": [
    {
     "name": "stdout",
     "output_type": "stream",
     "text": [
      "Accuracy of testing model 0.9195402298850575\n",
      "==============================================================================\n",
      "Confusion Matrics [[9954  127]\n",
      " [ 755  126]]\n",
      "==============================================================================\n",
      "Classificaton Report               precision    recall  f1-score   support\n",
      "\n",
      "           0       0.93      0.99      0.96     10081\n",
      "           1       0.50      0.14      0.22       881\n",
      "\n",
      "    accuracy                           0.92     10962\n",
      "   macro avg       0.71      0.57      0.59     10962\n",
      "weighted avg       0.89      0.92      0.90     10962\n",
      "\n"
     ]
    }
   ],
   "source": [
    "print(\"Accuracy of testing model\",accuracy_score(y_test,y_pred_dtc_test))\n",
    "print(\"==============================================================================\")\n",
    "print(\"Confusion Matrics\",confusion_matrix(y_test,y_pred_dtc_test))\n",
    "print(\"==============================================================================\")\n",
    "print(\"Classificaton Report\",classification_report(y_test,y_pred_dtc_test))"
   ]
  },
  {
   "cell_type": "markdown",
   "id": "43e4ec51",
   "metadata": {},
   "source": [
    "# 7 KNN"
   ]
  },
  {
   "cell_type": "code",
   "execution_count": 73,
   "id": "f6425b6e",
   "metadata": {},
   "outputs": [
    {
     "data": {
      "text/plain": [
       "KNeighborsClassifier(n_neighbors=3)"
      ]
     },
     "execution_count": 73,
     "metadata": {},
     "output_type": "execute_result"
    }
   ],
   "source": [
    "from sklearn.neighbors import KNeighborsClassifier\n",
    "knn_model = KNeighborsClassifier(n_neighbors = 3)\n",
    "knn_model.fit(X_train,y_train)"
   ]
  },
  {
   "cell_type": "markdown",
   "id": "84defba5",
   "metadata": {},
   "source": [
    "### Validation of model"
   ]
  },
  {
   "cell_type": "code",
   "execution_count": 74,
   "id": "fb092808",
   "metadata": {},
   "outputs": [],
   "source": [
    "y_pred_knn_train = knn_model.predict(X_train)"
   ]
  },
  {
   "cell_type": "code",
   "execution_count": 75,
   "id": "6c8d6956",
   "metadata": {},
   "outputs": [
    {
     "name": "stdout",
     "output_type": "stream",
     "text": [
      "Accuracy of training model 0.9177347990694704\n",
      "==============================================================================\n",
      "Confusion Matrics [[39265   794]\n",
      " [ 2813   974]]\n",
      "==============================================================================\n",
      "Classificaton Report                precision    recall  f1-score   support\n",
      "\n",
      "           0       0.93      0.98      0.96     40059\n",
      "           1       0.55      0.26      0.35      3787\n",
      "\n",
      "    accuracy                           0.92     43846\n",
      "   macro avg       0.74      0.62      0.65     43846\n",
      "weighted avg       0.90      0.92      0.90     43846\n",
      "\n"
     ]
    }
   ],
   "source": [
    "print(\"Accuracy of training model\",accuracy_score(y_train,y_pred_knn_train))\n",
    "print(\"==============================================================================\")\n",
    "print(\"Confusion Matrics\",confusion_matrix(y_train,y_pred_knn_train))\n",
    "print(\"==============================================================================\")\n",
    "print(\"Classificaton Report \",classification_report(y_train,y_pred_knn_train))"
   ]
  },
  {
   "cell_type": "code",
   "execution_count": 76,
   "id": "dea47774",
   "metadata": {},
   "outputs": [],
   "source": [
    "y_pred_knn_test = knn_model.predict(X_test)"
   ]
  },
  {
   "cell_type": "code",
   "execution_count": 77,
   "id": "c1e1489f",
   "metadata": {},
   "outputs": [
    {
     "name": "stdout",
     "output_type": "stream",
     "text": [
      "Accuracy of testing model 0.9084108739281153\n",
      "==============================================================================\n",
      "Confusion Matrics [[9807  274]\n",
      " [ 730  151]]\n",
      "==============================================================================\n",
      "Classificaton Report               precision    recall  f1-score   support\n",
      "\n",
      "           0       0.93      0.97      0.95     10081\n",
      "           1       0.36      0.17      0.23       881\n",
      "\n",
      "    accuracy                           0.91     10962\n",
      "   macro avg       0.64      0.57      0.59     10962\n",
      "weighted avg       0.88      0.91      0.89     10962\n",
      "\n"
     ]
    }
   ],
   "source": [
    "print(\"Accuracy of testing model\",accuracy_score(y_test,y_pred_knn_test))\n",
    "print(\"==============================================================================\")\n",
    "print(\"Confusion Matrics\",confusion_matrix(y_test,y_pred_knn_test))\n",
    "print(\"==============================================================================\")\n",
    "print(\"Classificaton Report\",classification_report(y_test,y_pred_knn_test))"
   ]
  },
  {
   "cell_type": "code",
   "execution_count": 78,
   "id": "5d1488ad",
   "metadata": {},
   "outputs": [],
   "source": [
    "#Spliting the variable into train and test\n",
    "from sklearn.model_selection import train_test_split\n",
    "X_train, X_test, y_train, y_test = train_test_split(X_scaler,Y, test_size=0.20, random_state=2903)"
   ]
  },
  {
   "cell_type": "markdown",
   "id": "60b6e52a",
   "metadata": {},
   "source": [
    "# 8. GradientBoostingClassifier"
   ]
  },
  {
   "cell_type": "code",
   "execution_count": 79,
   "id": "3d5798db",
   "metadata": {},
   "outputs": [
    {
     "data": {
      "text/plain": [
       "GradientBoostingClassifier(random_state=2903)"
      ]
     },
     "execution_count": 79,
     "metadata": {},
     "output_type": "execute_result"
    }
   ],
   "source": [
    "from sklearn.ensemble import GradientBoostingClassifier\n",
    "gbc_model = GradientBoostingClassifier(ccp_alpha=0.0, criterion='friedman_mse', init=None,\n",
    "                                       learning_rate=0.1, loss='deviance', max_depth=3,\n",
    "                                       max_features=None, max_leaf_nodes=None,\n",
    "                                       min_impurity_decrease=0.0,\n",
    "                                       min_samples_leaf=1, min_samples_split=2,\n",
    "                                       min_weight_fraction_leaf=0.0, n_estimators=100,\n",
    "                                       n_iter_no_change=None,\n",
    "                                       random_state=2903, subsample=1.0, tol=0.0001,\n",
    "                                       validation_fraction=0.1, verbose=0,\n",
    "                                       warm_start=False)\n",
    "gbc_model.fit(X_train,y_train)"
   ]
  },
  {
   "cell_type": "markdown",
   "id": "eb4b3f91",
   "metadata": {},
   "source": [
    "### Validation of model"
   ]
  },
  {
   "cell_type": "code",
   "execution_count": 80,
   "id": "5ebf618b",
   "metadata": {},
   "outputs": [],
   "source": [
    "y_pred_gbc_train= gbc_model.predict(X_train)"
   ]
  },
  {
   "cell_type": "code",
   "execution_count": 81,
   "id": "ea92afc7",
   "metadata": {},
   "outputs": [
    {
     "name": "stdout",
     "output_type": "stream",
     "text": [
      "Accuracy of training model 0.9248049993157871\n",
      "==============================================================================\n",
      "Confusion Matrics [[39999   102]\n",
      " [ 3195   550]]\n",
      "==============================================================================\n",
      "Classificaton Report                precision    recall  f1-score   support\n",
      "\n",
      "           0       0.93      1.00      0.96     40101\n",
      "           1       0.84      0.15      0.25      3745\n",
      "\n",
      "    accuracy                           0.92     43846\n",
      "   macro avg       0.88      0.57      0.61     43846\n",
      "weighted avg       0.92      0.92      0.90     43846\n",
      "\n"
     ]
    }
   ],
   "source": [
    "print(\"Accuracy of training model\",accuracy_score(y_train,y_pred_gbc_train))\n",
    "print(\"==============================================================================\")\n",
    "print(\"Confusion Matrics\",confusion_matrix(y_train,y_pred_gbc_train))\n",
    "print(\"==============================================================================\")\n",
    "print(\"Classificaton Report \",classification_report(y_train,y_pred_gbc_train))"
   ]
  },
  {
   "cell_type": "code",
   "execution_count": 82,
   "id": "04e2d6f5",
   "metadata": {},
   "outputs": [],
   "source": [
    "y_pred_gbc_test= gbc_model.predict(X_test)"
   ]
  },
  {
   "cell_type": "code",
   "execution_count": 83,
   "id": "a586e95f",
   "metadata": {},
   "outputs": [
    {
     "name": "stdout",
     "output_type": "stream",
     "text": [
      "Accuracy of testing model 0.9261083743842364\n",
      "==============================================================================\n",
      "Confusion Matrics [[10003    36]\n",
      " [  774   149]]\n",
      "==============================================================================\n",
      "Classificaton Report               precision    recall  f1-score   support\n",
      "\n",
      "           0       0.93      1.00      0.96     10039\n",
      "           1       0.81      0.16      0.27       923\n",
      "\n",
      "    accuracy                           0.93     10962\n",
      "   macro avg       0.87      0.58      0.62     10962\n",
      "weighted avg       0.92      0.93      0.90     10962\n",
      "\n"
     ]
    }
   ],
   "source": [
    "print(\"Accuracy of testing model\",accuracy_score(y_test,y_pred_gbc_test))\n",
    "print(\"==============================================================================\")\n",
    "print(\"Confusion Matrics\",confusion_matrix(y_test,y_pred_gbc_test))\n",
    "print(\"==============================================================================\")\n",
    "print(\"Classificaton Report\",classification_report(y_test,y_pred_gbc_test))"
   ]
  },
  {
   "cell_type": "markdown",
   "id": "e9a9450a",
   "metadata": {},
   "source": [
    "## Accuracy comparision"
   ]
  },
  {
   "cell_type": "code",
   "execution_count": 84,
   "id": "b361fa75",
   "metadata": {},
   "outputs": [],
   "source": [
    "model = ['RANDOM FOREST','LOGISTIC REGRESSION','GAUSSIAN NAIVE BAYES CLASSIFIER','SVC','XGB','DECISION TREE','KNN','GradientBoostingClassifier']\n",
    "\n",
    "training = [\n",
    "     (accuracy_score(y_train,y_pred_rfc_train)*100),\n",
    "     (accuracy_score(y_train,y_pred_lr_train)*100),\n",
    "     (accuracy_score(y_train,y_pred_gnb_train)*100),\n",
    "     (accuracy_score(y_train,y_pred_svc_train)*100),\n",
    "     (accuracy_score(y_train,y_pred_xgb_train)*100),\n",
    "     (accuracy_score(y_train,y_pred_dtc_train)*100),\n",
    "     (accuracy_score(y_train,y_pred_knn_train)*100),\n",
    "     (accuracy_score(y_train,y_pred_gbc_train)*100)\n",
    "]\n",
    "\n",
    "testing = [\n",
    "     (accuracy_score(y_test,y_pred_rfc_test)*100),\n",
    "     (accuracy_score(y_test,y_pred_lr_test)*100),\n",
    "     (accuracy_score(y_test,y_pred_gnb_test)*100),\n",
    "     (accuracy_score(y_test,y_pred_svc_test)*100),\n",
    "     (accuracy_score(y_test,y_pred_xgb_test)*100),\n",
    "     (accuracy_score(y_test,y_pred_dtc_test)*100),\n",
    "     (accuracy_score(y_test,y_pred_knn_test)*100),\n",
    "     (accuracy_score(y_test,y_pred_gbc_test)*100)\n",
    "]"
   ]
  },
  {
   "cell_type": "code",
   "execution_count": 85,
   "id": "013b5eb9",
   "metadata": {},
   "outputs": [
    {
     "data": {
      "text/html": [
       "<div>\n",
       "<style scoped>\n",
       "    .dataframe tbody tr th:only-of-type {\n",
       "        vertical-align: middle;\n",
       "    }\n",
       "\n",
       "    .dataframe tbody tr th {\n",
       "        vertical-align: top;\n",
       "    }\n",
       "\n",
       "    .dataframe thead th {\n",
       "        text-align: right;\n",
       "    }\n",
       "</style>\n",
       "<table border=\"1\" class=\"dataframe\">\n",
       "  <thead>\n",
       "    <tr style=\"text-align: right;\">\n",
       "      <th></th>\n",
       "      <th>Model</th>\n",
       "      <th>Training</th>\n",
       "      <th>Testing</th>\n",
       "    </tr>\n",
       "  </thead>\n",
       "  <tbody>\n",
       "    <tr>\n",
       "      <th>0</th>\n",
       "      <td>RANDOM FOREST</td>\n",
       "      <td>89.212243</td>\n",
       "      <td>89.719029</td>\n",
       "    </tr>\n",
       "    <tr>\n",
       "      <th>1</th>\n",
       "      <td>LOGISTIC REGRESSION</td>\n",
       "      <td>90.685581</td>\n",
       "      <td>90.895822</td>\n",
       "    </tr>\n",
       "    <tr>\n",
       "      <th>2</th>\n",
       "      <td>GAUSSIAN NAIVE BAYES CLASSIFIER</td>\n",
       "      <td>89.599964</td>\n",
       "      <td>89.801131</td>\n",
       "    </tr>\n",
       "    <tr>\n",
       "      <th>3</th>\n",
       "      <td>SVC</td>\n",
       "      <td>91.458742</td>\n",
       "      <td>91.580004</td>\n",
       "    </tr>\n",
       "    <tr>\n",
       "      <th>4</th>\n",
       "      <td>XGB</td>\n",
       "      <td>90.078913</td>\n",
       "      <td>90.302864</td>\n",
       "    </tr>\n",
       "    <tr>\n",
       "      <th>5</th>\n",
       "      <td>DECISION TREE</td>\n",
       "      <td>89.581718</td>\n",
       "      <td>89.746397</td>\n",
       "    </tr>\n",
       "    <tr>\n",
       "      <th>6</th>\n",
       "      <td>KNN</td>\n",
       "      <td>88.096976</td>\n",
       "      <td>88.487502</td>\n",
       "    </tr>\n",
       "    <tr>\n",
       "      <th>7</th>\n",
       "      <td>GradientBoostingClassifier</td>\n",
       "      <td>92.480500</td>\n",
       "      <td>92.610837</td>\n",
       "    </tr>\n",
       "  </tbody>\n",
       "</table>\n",
       "</div>"
      ],
      "text/plain": [
       "                             Model   Training    Testing\n",
       "0                    RANDOM FOREST  89.212243  89.719029\n",
       "1              LOGISTIC REGRESSION  90.685581  90.895822\n",
       "2  GAUSSIAN NAIVE BAYES CLASSIFIER  89.599964  89.801131\n",
       "3                              SVC  91.458742  91.580004\n",
       "4                              XGB  90.078913  90.302864\n",
       "5                    DECISION TREE  89.581718  89.746397\n",
       "6                              KNN  88.096976  88.487502\n",
       "7       GradientBoostingClassifier  92.480500  92.610837"
      ]
     },
     "execution_count": 85,
     "metadata": {},
     "output_type": "execute_result"
    }
   ],
   "source": [
    "df = pd.DataFrame()\n",
    "df['Model'] = model\n",
    "df['Training'] = training\n",
    "df['Testing'] = testing\n",
    "df"
   ]
  },
  {
   "cell_type": "code",
   "execution_count": 86,
   "id": "9e9d2044",
   "metadata": {},
   "outputs": [],
   "source": [
    "import pickle"
   ]
  },
  {
   "cell_type": "code",
   "execution_count": 87,
   "id": "bccccbc2",
   "metadata": {},
   "outputs": [],
   "source": [
    "# open a file, where you ant to store the data\n",
    "file = open('gbc_model_pickle','wb')\n",
    "\n",
    "# dump information to that file\n",
    "pickle.dump(gbc_model,file)"
   ]
  },
  {
   "cell_type": "code",
   "execution_count": null,
   "id": "fc41ffc0",
   "metadata": {},
   "outputs": [],
   "source": []
  }
 ],
 "metadata": {
  "kernelspec": {
   "display_name": "Python 3 (ipykernel)",
   "language": "python",
   "name": "python3"
  },
  "language_info": {
   "codemirror_mode": {
    "name": "ipython",
    "version": 3
   },
   "file_extension": ".py",
   "mimetype": "text/x-python",
   "name": "python",
   "nbconvert_exporter": "python",
   "pygments_lexer": "ipython3",
   "version": "3.9.12"
  }
 },
 "nbformat": 4,
 "nbformat_minor": 5
}
